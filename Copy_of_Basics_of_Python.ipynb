{
  "nbformat": 4,
  "nbformat_minor": 0,
  "metadata": {
    "colab": {
      "provenance": [],
      "include_colab_link": true
    },
    "kernelspec": {
      "name": "python3",
      "display_name": "Python 3"
    }
  },
  "cells": [
    {
      "cell_type": "markdown",
      "metadata": {
        "id": "view-in-github",
        "colab_type": "text"
      },
      "source": [
        "<a href=\"https://colab.research.google.com/github/12210102/Shruti-Scifor/blob/main/Copy_of_Basics_of_Python.ipynb\" target=\"_parent\"><img src=\"https://colab.research.google.com/assets/colab-badge.svg\" alt=\"Open In Colab\"/></a>"
      ]
    },
    {
      "cell_type": "code",
      "source": [
        "def merge_strings_alternately(word1, word2):\n",
        "    merged = []\n",
        "    i, j = 0, 0\n",
        "    while i < len(word1) or j < len(word2):\n",
        "        if i < len(word1):\n",
        "            merged.append(word1[i])\n",
        "            i += 1\n",
        "        if j < len(word2):\n",
        "            merged.append(word2[j])\n",
        "            j += 1\n",
        "    return ''.join(merged)\n",
        "word1 = input(\"Enter the first string: \")\n",
        "word2 = input(\"Enter the second string: \")\n",
        "print(\"Merged string:\", merge_strings_alternately(word1, word2))\n"
      ],
      "metadata": {
        "id": "tHD8uOXc5Sf5",
        "outputId": "8a245fdd-e443-42b3-f952-62e1dfee3499",
        "colab": {
          "base_uri": "https://localhost:8080/"
        }
      },
      "execution_count": null,
      "outputs": [
        {
          "output_type": "stream",
          "name": "stdout",
          "text": [
            "Enter the first string: abc\n",
            "Enter the second string: pqr\n",
            "Merged string: apbqcr\n"
          ]
        }
      ]
    },
    {
      "cell_type": "code",
      "source": [
        "def find_the_difference(s, t):\n",
        "    from collections import Counter\n",
        "    counter_s = Counter(s)\n",
        "    counter_t = Counter(t)\n",
        "    for char in counter_t:\n",
        "        if counter_t[char] != counter_s[char]:\n",
        "            return char\n",
        "s = input(\"Enter the first string (s): \")\n",
        "t = input(\"Enter the second string (t): \")\n",
        "print(\"The difference is:\", find_the_difference(s, t))\n"
      ],
      "metadata": {
        "id": "ugXEI3or5dUM",
        "outputId": "93629116-2c17-4611-cfcf-09f8d4f9d2a1",
        "colab": {
          "base_uri": "https://localhost:8080/"
        }
      },
      "execution_count": null,
      "outputs": [
        {
          "output_type": "stream",
          "name": "stdout",
          "text": [
            "Enter the first string (s): shruti\n",
            "Enter the second string (t): andraskar\n",
            "The difference is: a\n"
          ]
        }
      ]
    },
    {
      "cell_type": "code",
      "source": [
        "def str_str(haystack, needle):\n",
        "    return haystack.find(needle)\n",
        "haystack = input(\"Enter the main string: \")\n",
        "needle = input(\"Enter the substring to find: \")\n",
        "print(\"Index of first occurrence:\", str_str(haystack, needle))\n"
      ],
      "metadata": {
        "id": "csR2zoXK5lMh",
        "outputId": "276e2e38-4339-41c9-f4db-8f78cd9d056b",
        "colab": {
          "base_uri": "https://localhost:8080/"
        }
      },
      "execution_count": null,
      "outputs": [
        {
          "output_type": "stream",
          "name": "stdout",
          "text": [
            "Enter the main string: abcd\n",
            "Enter the substring to find: abcde\n",
            "Index of first occurrence: -1\n"
          ]
        }
      ]
    },
    {
      "cell_type": "code",
      "source": [
        "def is_anagram(s, t):\n",
        "    return sorted(s) == sorted(t)\n",
        "s = input(\"Enter the first string: \")\n",
        "t = input(\"Enter the second string: \")\n",
        "print(\"Is valid anagram:\", is_anagram(s, t))\n"
      ],
      "metadata": {
        "id": "sIPSK2Ur5taH",
        "outputId": "db5591c5-25ae-431f-d8ed-a0aff66d741f",
        "colab": {
          "base_uri": "https://localhost:8080/"
        }
      },
      "execution_count": null,
      "outputs": [
        {
          "output_type": "stream",
          "name": "stdout",
          "text": [
            "Enter the first string: abcd\n",
            "Enter the second string: abcde\n",
            "Is valid anagram: False\n"
          ]
        }
      ]
    },
    {
      "cell_type": "code",
      "source": [
        "def repeated_substring_pattern(s):\n",
        "    return (s + s)[1:-1].find(s) != -1\n",
        "s = input(\"Enter the string: \")\n",
        "print(\"Has repeated substring pattern:\", repeated_substring_pattern(s))\n"
      ],
      "metadata": {
        "id": "5CS33bD6518t",
        "outputId": "d9d6e7be-946e-468c-d308-3867974a2216",
        "colab": {
          "base_uri": "https://localhost:8080/"
        }
      },
      "execution_count": null,
      "outputs": [
        {
          "output_type": "stream",
          "name": "stdout",
          "text": [
            "Enter the string: shruti\n",
            "Has repeated substring pattern: False\n"
          ]
        }
      ]
    },
    {
      "cell_type": "code",
      "source": [
        "def move_zeroes(nums):\n",
        "    j = 0\n",
        "    for i in range(len(nums)):\n",
        "        if nums[i] != 0:\n",
        "            nums[j], nums[i] = nums[i], nums[j]\n",
        "            j += 1\n",
        "nums = list(map(int, input(\"Enter the list of numbers (separated by spaces): \").split()))\n",
        "move_zeroes(nums)\n",
        "print(\"List after moving zeroes:\", nums)\n"
      ],
      "metadata": {
        "id": "KXLjgPUH58ph",
        "outputId": "7564804c-b818-4ac6-9772-126eddb7d978",
        "colab": {
          "base_uri": "https://localhost:8080/"
        }
      },
      "execution_count": null,
      "outputs": [
        {
          "output_type": "stream",
          "name": "stdout",
          "text": [
            "Enter the list of numbers (separated by spaces): 1 2 0 5 0\n",
            "List after moving zeroes: [1, 2, 5, 0, 0]\n"
          ]
        }
      ]
    },
    {
      "cell_type": "code",
      "source": [
        "def plus_one(digits):\n",
        "    for i in reversed(range(len(digits))):\n",
        "        if digits[i] < 9:\n",
        "            digits[i] += 1\n",
        "            return digits\n",
        "        digits[i] = 0\n",
        "    return [1] + digits\n",
        "digits = list(map(int, input(\"Enter the digits (separated by spaces): \").split()))\n",
        "print(\"Result after plus one:\", plus_one(digits))\n"
      ],
      "metadata": {
        "id": "k200UAcU6FqH",
        "outputId": "417a3a5e-535f-4ca3-b5bc-779b59b24e68",
        "colab": {
          "base_uri": "https://localhost:8080/"
        }
      },
      "execution_count": null,
      "outputs": [
        {
          "output_type": "stream",
          "name": "stdout",
          "text": [
            "Enter the digits (separated by spaces): 1 0 7 3\n",
            "Result after plus one: [1, 0, 7, 4]\n"
          ]
        }
      ]
    },
    {
      "cell_type": "code",
      "source": [
        "def array_sign(nums):\n",
        "    product = 1\n",
        "    for num in nums:\n",
        "        if num == 0:\n",
        "            return 0\n",
        "        if num < 0:\n",
        "            product *= -1\n",
        "    return product\n",
        "nums = list(map(int, input(\"Enter the list of numbers (separated by spaces): \").split()))\n",
        "print(\"Sign of the product:\", array_sign(nums))\n"
      ],
      "metadata": {
        "id": "cXxuJrp56Qj5",
        "outputId": "e660f982-13f4-462b-bbb5-149eadeb1b64",
        "colab": {
          "base_uri": "https://localhost:8080/"
        }
      },
      "execution_count": null,
      "outputs": [
        {
          "output_type": "stream",
          "name": "stdout",
          "text": [
            "Enter the list of numbers (separated by spaces): 1 8 3 1\n",
            "Sign of the product: 1\n"
          ]
        }
      ]
    },
    {
      "cell_type": "code",
      "source": [
        "def can_make_arithmetic_progression(arr):\n",
        "    arr.sort()\n",
        "    diff = arr[1] - arr[0]\n",
        "    for i in range(2, len(arr)):\n",
        "        if arr[i] - arr[i - 1] != diff:\n",
        "            return False\n",
        "    return True\n",
        "arr = list(map(int, input(\"Enter the sequence of numbers (separated by spaces): \").split()))\n",
        "print(\"Can make arithmetic progression:\", can_make_arithmetic_progression(arr))\n"
      ],
      "metadata": {
        "id": "dZZTd3T46YjQ",
        "outputId": "aed41807-c5e9-42a7-a053-32cce38e99d4",
        "colab": {
          "base_uri": "https://localhost:8080/"
        }
      },
      "execution_count": null,
      "outputs": [
        {
          "output_type": "stream",
          "name": "stdout",
          "text": [
            "Enter the sequence of numbers (separated by spaces): 1 9 3 5\n",
            "Can make arithmetic progression: False\n"
          ]
        }
      ]
    },
    {
      "cell_type": "code",
      "source": [
        "def is_monotonic(nums):\n",
        "    increasing = decreasing = True\n",
        "    for i in range(1, len(nums)):\n",
        "        if nums[i] > nums[i - 1]:\n",
        "            decreasing = False\n",
        "        if nums[i] < nums[i - 1]:\n",
        "            increasing = False\n",
        "    return increasing or decreasing\n",
        "nums = list(map(int, input(\"Enter the list of numbers (separated by spaces): \").split()))\n",
        "print(\"Is monotonic array:\", is_monotonic(nums))\n"
      ],
      "metadata": {
        "id": "ZZtNKuSJ6fjP",
        "outputId": "32cd8e9f-1c1c-438a-cf4f-fa17e0e7106a",
        "colab": {
          "base_uri": "https://localhost:8080/"
        }
      },
      "execution_count": null,
      "outputs": [
        {
          "output_type": "stream",
          "name": "stdout",
          "text": [
            "Enter the list of numbers (separated by spaces): 1 0 5 2\n",
            "Is monotonic array: False\n"
          ]
        }
      ]
    },
    {
      "cell_type": "code",
      "source": [
        "def roman_to_int(s):\n",
        "    roman = {'I': 1, 'V': 5, 'X': 10, 'L': 50, 'C': 100, 'D': 500, 'M': 1000}\n",
        "    integer_value = 0\n",
        "    prev_value = 0\n",
        "    for char in reversed(s):\n",
        "        current_value = roman[char]\n",
        "        if current_value < prev_value:\n",
        "            integer_value -= current_value\n",
        "        else:\n",
        "            integer_value += current_value\n",
        "        prev_value = current_value\n",
        "    return integer_value\n",
        "s = input(\"Enter the Roman numeral: \")\n",
        "print(\"Integer value:\", roman_to_int(s))\n"
      ],
      "metadata": {
        "id": "MkcZToV_6mlA",
        "outputId": "8e131832-1092-4833-992e-5a35db03b6e8",
        "colab": {
          "base_uri": "https://localhost:8080/"
        }
      },
      "execution_count": null,
      "outputs": [
        {
          "output_type": "stream",
          "name": "stdout",
          "text": [
            "Enter the Roman numeral: XVII\n",
            "Integer value: 17\n"
          ]
        }
      ]
    }
  ]
}