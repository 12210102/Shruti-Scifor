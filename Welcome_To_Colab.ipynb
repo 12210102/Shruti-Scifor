{
  "cells": [
    {
      "cell_type": "markdown",
      "metadata": {
        "id": "view-in-github",
        "colab_type": "text"
      },
      "source": [
        "<a href=\"https://colab.research.google.com/github/12210102/Shruti-Scifor/blob/main/Welcome_To_Colab.ipynb\" target=\"_parent\"><img src=\"https://colab.research.google.com/assets/colab-badge.svg\" alt=\"Open In Colab\"/></a>"
      ]
    },
    {
      "cell_type": "markdown",
      "source": [
        "1.Explain Encapsulation with example and write python code\n",
        "\n",
        "Ans. Encapsulation is the mechanism that binds together the data and functions that manipulate the data, and keeps them safe from external interference. It allows objects to hide their internal state and require all interaction to be performed through an object's methods. Encapsulation is achieved by making attributes private using the double underscore '__'."
      ],
      "metadata": {
        "id": "I35kpvxI5-mI"
      }
    },
    {
      "cell_type": "code",
      "source": [
        "#example\n",
        "class car:\n",
        "  def __init__(self,name,model,year):\n",
        "    self.__name=name\n",
        "    self.__model=model\n",
        "    self.__year=year\n",
        "  def display_car_details(self):\n",
        "   return f\"Name: {self.__name}, Model: {self.__model}, Year: {self.__year}\"\n",
        "car1=car(\"Mercedes\",\"city\",2020)\n",
        "print(car1.display_car_details())"
      ],
      "metadata": {
        "colab": {
          "base_uri": "https://localhost:8080/"
        },
        "id": "vmdhhCv66Ebu",
        "outputId": "a01d52e4-5e95-4e27-b3ec-cf5f141480d4"
      },
      "execution_count": 8,
      "outputs": [
        {
          "output_type": "stream",
          "name": "stdout",
          "text": [
            "Name: honda, Model: city, Year: 2020\n"
          ]
        }
      ]
    },
    {
      "cell_type": "markdown",
      "source": [
        "2.Explain Polymorphism with example and write python code\n",
        "\n",
        "Ans. Polymorphism allows objects to be treated as instances of their parent class. It enables different behavior to be implemented by objects of different classes related by inheritance."
      ],
      "metadata": {
        "id": "qsSTlqpj7svH"
      }
    },
    {
      "cell_type": "code",
      "source": [
        "#example\n",
        "class Animal:\n",
        "    def speak(self):\n",
        "        return \"\"\n",
        "\n",
        "class cow(Animal):\n",
        "    def speak(self):\n",
        "        return \"moo....\"\n",
        "\n",
        "class sheep(Animal):\n",
        "    def speak(self):\n",
        "        return \"bee....\"\n",
        "\n",
        "def animal_speak(animal):\n",
        "    return animal.speak()\n",
        "\n",
        "cow = cow()\n",
        "sheep = sheep()\n",
        "\n",
        "print(animal_speak(cow))\n",
        "print(animal_speak(sheep))"
      ],
      "metadata": {
        "colab": {
          "base_uri": "https://localhost:8080/"
        },
        "id": "nr5GmUhU7BQu",
        "outputId": "932f3318-8295-4744-a639-be0f36621604"
      },
      "execution_count": 10,
      "outputs": [
        {
          "output_type": "stream",
          "name": "stdout",
          "text": [
            "moo....\n",
            "bee....\n"
          ]
        }
      ]
    },
    {
      "cell_type": "markdown",
      "source": [
        "3. Explain Single Level Inheritance with python code\n",
        "\n",
        "Ans. Single Level Inheritance involves one base class and one derived class. The derived class inherits the attributes and methods of the base class.\n"
      ],
      "metadata": {
        "id": "zGBJH46c8gg2"
      }
    },
    {
      "cell_type": "code",
      "source": [
        "class Vehicle:\n",
        "    def __init__(self, name, color, max_speed):\n",
        "        self.color = color\n",
        "        self.max_speed = max_speed\n",
        "        self.name = name\n",
        "\n",
        "    def display_details(self):\n",
        "        print(f\"Name: {self.name}, Color: {self.color}, Max Speed: {self.max_speed} km/h\")\n",
        "\n",
        "class Car(Vehicle):\n",
        "    def __init__(self, name, color, max_speed, num_doors):\n",
        "        super().__init__(name, color, max_speed)\n",
        "        self.num_doors = num_doors\n",
        "\n",
        "    def display_details(self):\n",
        "        super().display_details()\n",
        "        print(f\"Number of Doors: {self.num_doors}\")\n",
        "\n",
        "my_car = Car(\" PORSCHE\", \"black\", 200, 4)\n",
        "my_car.display_details()\n"
      ],
      "metadata": {
        "colab": {
          "base_uri": "https://localhost:8080/"
        },
        "id": "_9bjasjB8oQh",
        "outputId": "761e7f65-2ef6-493c-9e31-ad385fcc6c7c"
      },
      "execution_count": 30,
      "outputs": [
        {
          "output_type": "stream",
          "name": "stdout",
          "text": [
            "Name:  PORSCHE, Color: black, Max Speed: 200 km/h\n",
            "Number of Doors: 4\n"
          ]
        }
      ]
    },
    {
      "cell_type": "markdown",
      "source": [
        "5. Explain Muti-level inheritance with python code\n",
        "\n",
        "Ans. Multiple Inheritance allows a class to inherit attributes and methods from multiple base classes."
      ],
      "metadata": {
        "id": "kmOoR3nS9LJm"
      }
    },
    {
      "cell_type": "code",
      "source": [
        "class Grandparent:\n",
        "    def __init__(self, name):\n",
        "        self.name = name\n",
        "\n",
        "    def display_name(self):\n",
        "        print(f\"Grandparent's name: {self.name}\")\n",
        "\n",
        "class Parent(Grandparent):\n",
        "    def __init__(self, name, age):\n",
        "        super().__init__(name)\n",
        "        self.age = age\n",
        "\n",
        "    def display_age(self):\n",
        "        print(f\"Parent's age: {self.age}\")\n",
        "\n",
        "class Child(Parent):\n",
        "    def __init__(self, name, age, gender):\n",
        "        super().__init__(name, age)\n",
        "        self.gender = gender\n",
        "\n",
        "    def display_gender(self):\n",
        "        print(f\"Child's gender: {self.gender}\")\n",
        "\n",
        "my_child = Child(\"John\", 60, \"Male\")\n",
        "my_child.display_name()\n",
        "my_child.display_age()\n",
        "my_child.display_gender()\n"
      ],
      "metadata": {
        "colab": {
          "base_uri": "https://localhost:8080/"
        },
        "id": "aZNkSfU99UC9",
        "outputId": "7ab00584-2ff2-43e9-cc22-7f9ccd80d605"
      },
      "execution_count": 14,
      "outputs": [
        {
          "output_type": "stream",
          "name": "stdout",
          "text": [
            "Grandparent's name: John\n",
            "Parent's age: 60\n",
            "Child's gender: Male\n"
          ]
        }
      ]
    },
    {
      "cell_type": "markdown",
      "source": [
        "6. What do you mean by conditional statements. Explain with python code\n",
        "\n",
        "Ans. Conditional statements are used to execute different actions based on different conditions.Conditional statements include if, elif, and else."
      ],
      "metadata": {
        "id": "jpmdCSs992b3"
      }
    },
    {
      "cell_type": "code",
      "source": [
        "x = 604\n",
        "y = 773\n",
        "z = 845\n",
        "\n",
        "if x > y:\n",
        "    print(\"x is greater than y\")\n",
        "elif x == y:\n",
        "    print(\"x is equal to y\")\n",
        "else:\n",
        "    print(\"x is less than y\")\n",
        "\n",
        "if x > y and z > x:\n",
        "    print(\"x is greater than y and z is greater than x\")\n",
        "else:\n",
        "    print(\"Condition not met\")\n",
        "\n",
        "if x > y:\n",
        "    if z > x:\n",
        "        print(\"x is greater than y and z is greater than x\")\n",
        "    else:\n",
        "        print(\"x is greater than y but z is not greater than x\")\n",
        "else:\n",
        "    print(\"x is not greater than y\")\n",
        "\n",
        "if x > y:\n",
        "    print(\"x is greater than y\")\n",
        "elif x == y:\n",
        "    print(\"x is equal to y\")\n",
        "else:\n",
        "    if z > x:\n",
        "        print(\"x is less than y but z is greater than x\")\n",
        "    else:\n",
        "        print(\"x is less than y and z is not greater than x\")\n"
      ],
      "metadata": {
        "colab": {
          "base_uri": "https://localhost:8080/"
        },
        "id": "MeUpBriy-Ea8",
        "outputId": "1106f90a-bb29-40ec-930c-585b1417034b"
      },
      "execution_count": 16,
      "outputs": [
        {
          "output_type": "stream",
          "name": "stdout",
          "text": [
            "x is less than y\n",
            "Condition not met\n",
            "x is not greater than y\n",
            "x is less than y but z is greater than x\n"
          ]
        }
      ]
    },
    {
      "cell_type": "markdown",
      "source": [
        "7. What do you mean by decision making statements. Explain with python code\n",
        "\n",
        "Ans. Decision-making statements are used to make decisions based on multiple conditions.Decision-making statements include if, elif, else, and nested if statements."
      ],
      "metadata": {
        "id": "YqQiPWnx-6FD"
      }
    },
    {
      "cell_type": "code",
      "source": [
        "age = int(input(\"Enter your age: \"))\n",
        "gender = input(\"Enter your gender (M or F): \")\n",
        "if age >= 18:\n",
        "    if gender.upper() == \"M\":\n",
        "        print(\"You are an adult male!\")\n",
        "    elif gender.upper() == \"F\":\n",
        "        print(\"You are an adult female!\")\n",
        "    else:\n",
        "        print(\"Invalid gender. Please try again!\")\n",
        "else:\n",
        "    if age >= 13 and age < 18:\n",
        "        print(\"You are a teenager!\")\n",
        "    else:\n",
        "        print(\"You are a kid!\")"
      ],
      "metadata": {
        "colab": {
          "base_uri": "https://localhost:8080/"
        },
        "id": "aWjTCRMG_Hrg",
        "outputId": "8831a761-b904-41ce-f1a5-7ddc1bd6f5e4"
      },
      "execution_count": 19,
      "outputs": [
        {
          "output_type": "stream",
          "name": "stdout",
          "text": [
            "Enter your age: 21\n",
            "Enter your gender (M or F): F\n",
            "You are an adult female!\n"
          ]
        }
      ]
    },
    {
      "cell_type": "markdown",
      "source": [
        "8. Write a program of factorial in python"
      ],
      "metadata": {
        "id": "WPjdFjHsAGMi"
      }
    },
    {
      "cell_type": "code",
      "source": [
        "def factorial(n):\n",
        "    if n == 0:\n",
        "        return 1\n",
        "    else:\n",
        "        result = 1\n",
        "        for i in range(1, n + 1):\n",
        "            result *= i\n",
        "        return result\n",
        "\n",
        "def get_user_input():\n",
        "    while True:\n",
        "        try:\n",
        "            num = int(input(\"Enter a number: \"))\n",
        "            if num < 0:\n",
        "                print(\"Factorial is not defined for negative numbers.\")\n",
        "            else:\n",
        "                return num\n",
        "        except ValueError:\n",
        "            print(\"Invalid input. Please enter a whole number.\")\n",
        "\n",
        "def main():\n",
        "    num = get_user_input()\n",
        "    print(\"The factorial of\", num, \"is\", factorial(num))\n",
        "\n",
        "if __name__ == \"__main__\":\n",
        "    main()"
      ],
      "metadata": {
        "colab": {
          "base_uri": "https://localhost:8080/"
        },
        "id": "2h3M-x9ZAnct",
        "outputId": "ea80ae73-3078-4ff8-99c8-a4bbf832792a"
      },
      "execution_count": 24,
      "outputs": [
        {
          "output_type": "stream",
          "name": "stdout",
          "text": [
            "Enter a number: 9\n",
            "The factorial of 9 is 362880\n"
          ]
        }
      ]
    },
    {
      "cell_type": "markdown",
      "source": [
        "9. What do you understand by Functions? Explain with python code\n",
        "\n",
        "Ans. Functions are reusable blocks of code that perform a specific task.\n"
      ],
      "metadata": {
        "id": "5udHGU_xA0xc"
      }
    },
    {
      "cell_type": "code",
      "source": [
        "def get_user_info():\n",
        "    name = input(\"Enter your name: \")\n",
        "    age = int(input(\"Enter your age: \"))\n",
        "    return name, age\n",
        "\n",
        "def display_user_info(name, age):\n",
        "    print(f\"Name: {name}, Age: {age}\")\n",
        "\n",
        "def calculate_age_in_weeks(age):\n",
        "    return age * 52\n",
        "\n",
        "def calculate_age_in_months(age):\n",
        "    return age * 12\n",
        "\n",
        "def calculate_age_in_days(age):\n",
        "    return age * 365\n",
        "\n",
        "def main():\n",
        "    name, age = get_user_info()\n",
        "    display_user_info(name, age)\n",
        "    weeks = calculate_age_in_weeks(age)\n",
        "    months = calculate_age_in_months(age)\n",
        "    days = calculate_age_in_days(age)\n",
        "    print(f\"You are {weeks} weeks old.\")\n",
        "    print(f\"You are {months} months old.\")\n",
        "    print(f\"You are {days} days old.\")\n",
        "\n",
        "if __name__ == \"__main__\":\n",
        "    main()"
      ],
      "metadata": {
        "colab": {
          "base_uri": "https://localhost:8080/"
        },
        "id": "KpAnykhfBFNR",
        "outputId": "86e4f57c-7348-4d18-f101-1ab6d9933311"
      },
      "execution_count": 29,
      "outputs": [
        {
          "output_type": "stream",
          "name": "stdout",
          "text": [
            "Enter your name: shruti\n",
            "Enter your age: 21\n",
            "Name: shruti, Age: 21\n",
            "You are 1092 weeks old.\n",
            "You are 252 months old.\n",
            "You are 7665 days old.\n"
          ]
        }
      ]
    },
    {
      "cell_type": "markdown",
      "source": [
        "10. How many pillars of Oops we have in Python?\n",
        "\n",
        "Ans. We have 4 pillars in python:\n",
        "1. Inheritence\n",
        "\n",
        "   a. Single level Inheritence\n",
        "\n",
        "   b. Multi-level Inherience\n",
        "\n",
        "   c. Hybrid Level Inheritence\n",
        "\n",
        "   d. Multiple level Inheritence\n",
        "\n",
        "   e. Hirarichical Inheritence\n",
        "\n",
        "2. Encapsulation\n",
        "3. Polymorphism\n",
        "4. Object\n",
        "5. Class"
      ],
      "metadata": {
        "id": "XxpYCCDuCjJb"
      }
    }
  ],
  "metadata": {
    "colab": {
      "name": "Welcome To Colab",
      "toc_visible": true,
      "provenance": [],
      "include_colab_link": true
    },
    "kernelspec": {
      "display_name": "Python 3",
      "name": "python3"
    }
  },
  "nbformat": 4,
  "nbformat_minor": 0
}