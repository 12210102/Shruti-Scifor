{
 "cells": [
  {
   "cell_type": "markdown",
   "metadata": {},
   "source": [
    "1. All level of inheritence in one code."
   ]
  },
  {
   "cell_type": "code",
   "execution_count": 2,
   "metadata": {},
   "outputs": [
    {
     "name": "stdout",
     "output_type": "stream",
     "text": [
      "Grandparent\n",
      "Parent\n",
      "Child\n",
      "Inheritance relationships:\n",
      "Child -> child1\n",
      "child1 -> Grandparent\n",
      "child1 -> Mother\n"
     ]
    }
   ],
   "source": [
    "class Grandparent:\n",
    "    def __init__(self):\n",
    "        print(\"Grandparent\")\n",
    "parent_class = input(\"Enter the parent class (Grandparent, Mother, Father): \")\n",
    "if parent_class == \"Grandparent\":\n",
    "    class Parent(Grandparent):\n",
    "        def __init__(self):\n",
    "            super().__init__()\n",
    "            print(\"Parent\")\n",
    "elif parent_class == \"Mother\":\n",
    "    class Parent:\n",
    "        def __init__(self):\n",
    "            print(\"Mother\")\n",
    "elif parent_class == \"Father\":\n",
    "    class Parent:\n",
    "        def __init__(self):\n",
    "            print(\"Father\")\n",
    "additional_parents = input(\"Enter additional parent classes (Mother, Father): \")\n",
    "if additional_parents == \"Mother\":\n",
    "    class Mother:\n",
    "        def __init__(self):\n",
    "            print(\"Mother\")\n",
    "elif additional_parents == \"Father\":\n",
    "    class Father:\n",
    "        def __init__(self):\n",
    "            print(\"Father\")\n",
    "child_class = input(\"Enter the child class: \")\n",
    "if child_class == \"Child\":\n",
    "    class Child(Parent, Mother, Father):\n",
    "        def __init__(self):\n",
    "            super().__init__()\n",
    "            print(\"Child\")\n",
    "child = Child()\n",
    "print(\"Inheritance relationships:\")\n",
    "print(\"Child ->\", child_class)\n",
    "print(child_class, \"->\", parent_class)\n",
    "if additional_parents:\n",
    "    print(child_class, \"->\", additional_parents)\n"
   ]
  },
  {
   "cell_type": "markdown",
   "metadata": {},
   "source": [
    "2. Method overloading code"
   ]
  },
  {
   "cell_type": "code",
   "execution_count": 9,
   "metadata": {},
   "outputs": [
    {
     "name": "stdout",
     "output_type": "stream",
     "text": [
      "result:105.0\n"
     ]
    }
   ],
   "source": [
    "class calculator:\n",
    "    def multiply(self,a=None, b=None, c=None):\n",
    "        if a is not None and b is not None and c is not None:\n",
    "            return a*b*c\n",
    "        elif a is not None and b is not None:\n",
    "            return a*b\n",
    "        else:\n",
    "            return \"invalide input\"\n",
    "def main():\n",
    "        calc=calculator()\n",
    "        choice=input(\"enter number of arguments for multiplication (2/3):\")\n",
    "        if choice==\"2\":\n",
    "            a=float(input(\"enter the 1st no.:\"))\n",
    "            b=float(input(\"enter the 2nd no.:\"))\n",
    "            print(f\"result:{calc.multiply(a,b)}\")\n",
    "        elif choice==\"3\":\n",
    "            a=float(input(\"enter the 1st no.:\"))\n",
    "            b=float(input(\"enter the 2nd no.:\"))\n",
    "            c=float(input(\"enter 3rd no.:\"))\n",
    "            print(f\"result:{calc.multiply(a,b,c)}\")\n",
    "        else:\n",
    "            print(\"invalide choice\")\n",
    "if __name__ == \"__main__\":\n",
    "    main()"
   ]
  },
  {
   "cell_type": "markdown",
   "metadata": {},
   "source": [
    "3. Method overriding code"
   ]
  },
  {
   "cell_type": "code",
   "execution_count": 11,
   "metadata": {},
   "outputs": [
    {
     "name": "stdout",
     "output_type": "stream",
     "text": [
      "The car ciaz can reach a maximum speed of 100 km/h and has comfortable seating.\n"
     ]
    }
   ],
   "source": [
    "class Vehicle:\n",
    "    def __init__(self, name, max_speed):\n",
    "        self.name = name\n",
    "        self.max_speed = max_speed\n",
    "    def description(self):\n",
    "        return f\"{self.name} can reach a maximum speed of {self.max_speed} km/h.\"\n",
    "class Car(Vehicle):\n",
    "    def description(self):\n",
    "        return f\"The car {self.name} can reach a maximum speed of {self.max_speed} km/h and has comfortable seating.\"\n",
    "class Bike(Vehicle):\n",
    "    def description(self):\n",
    "        return f\"The bike {self.name} can reach a maximum speed of {self.max_speed} km/h and is suitable for quick trips.\"\n",
    "def main():\n",
    "    vehicle_type = input(\"Enter vehicle type (car or bike): \").lower()\n",
    "    name = input(\"Enter the name of the vehicle: \")\n",
    "    max_speed = input(\"Enter the maximum speed of the vehicle (in km/h): \")\n",
    "    if vehicle_type == \"car\":\n",
    "        vehicle = Car(name, max_speed)\n",
    "    elif vehicle_type == \"bike\":\n",
    "        vehicle = Bike(name, max_speed)\n",
    "    else:\n",
    "        print(\"Invalid vehicle type.\")\n",
    "        return\n",
    "    print(vehicle.description())\n",
    "if __name__ == \"__main__\":\n",
    "    main()\n"
   ]
  }
 ],
 "metadata": {
  "kernelspec": {
   "display_name": "Python 3",
   "language": "python",
   "name": "python3"
  },
  "language_info": {
   "codemirror_mode": {
    "name": "ipython",
    "version": 3
   },
   "file_extension": ".py",
   "mimetype": "text/x-python",
   "name": "python",
   "nbconvert_exporter": "python",
   "pygments_lexer": "ipython3",
   "version": "3.11.9"
  }
 },
 "nbformat": 4,
 "nbformat_minor": 2
}
