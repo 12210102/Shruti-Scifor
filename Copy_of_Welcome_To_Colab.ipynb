{
  "cells": [
    {
      "cell_type": "code",
      "execution_count": null,
      "metadata": {
        "colab": {
          "base_uri": "https://localhost:8080/"
        },
        "id": "wJR5BO7NLPut",
        "outputId": "416d04e3-9870-40a8-d50f-6c13d7352b5b"
      },
      "outputs": [
        {
          "name": "stdout",
          "output_type": "stream",
          "text": [
            "Enter initial balance (minimum 3000): 100000\n",
            "Set your ATM PIN: 1537\n",
            "\n",
            "1. Withdrawal\n",
            "2. Deposit\n",
            "3. Exit\n",
            "\n",
            "Choose an option: 1\n",
            "Enter your PIN: 1537\n",
            "Enter amount to withdraw: 28054\n",
            "Withdrawal successful. Amount: 28054.0\n",
            "Remaining balance: 71946.0\n",
            "\n",
            "1. Withdrawal\n",
            "2. Deposit\n",
            "3. Exit\n",
            "\n",
            "Choose an option: 2\n",
            "Enter your PIN: 1537\n",
            "Enter amount to deposit: 47900\n",
            "Deposit successful. Amount: 47900.0\n",
            "New balance: 119846.0\n",
            "\n",
            "1. Withdrawal\n",
            "2. Deposit\n",
            "3. Exit\n",
            "\n",
            "Choose an option: 1\n",
            "Enter your PIN: 4544\n",
            "Enter amount to withdraw: 567\n",
            "Invalid PIN\n",
            "\n",
            "1. Withdrawal\n",
            "2. Deposit\n",
            "3. Exit\n",
            "\n",
            "Choose an option: 3\n",
            "Thank you for using our service!\n"
          ]
        }
      ],
      "source": [
        "class Bank:\n",
        "    def __init__(self, initial_balance, atm_pin):\n",
        "        self.balance = initial_balance\n",
        "        self.atm_pin = atm_pin\n",
        "    def verify_pin(self, pin):\n",
        "        return self.atm_pin == pin\n",
        "    def withdraw(self, amount, pin):\n",
        "        if not self.verify_pin(pin):\n",
        "            print(\"Invalid PIN\")\n",
        "            return\n",
        "        if amount > self.balance:\n",
        "            print(\"Insufficient funds\")\n",
        "            return\n",
        "        if self.balance - amount < 3000:\n",
        "            print(\"Cannot withdraw. Minimum balance of 3000 must be maintained.\")\n",
        "            return\n",
        "        self.balance -= amount\n",
        "        print(f\"Withdrawal successful. Amount: {amount}\")\n",
        "        print(f\"Remaining balance: {self.balance}\")\n",
        "    def deposit(self, amount, pin):\n",
        "        if not self.verify_pin(pin):\n",
        "            print(\"Invalid PIN\")\n",
        "            return\n",
        "        self.balance += amount\n",
        "        print(f\"Deposit successful. Amount: {amount}\")\n",
        "        print(f\"New balance: {self.balance}\")\n",
        "if __name__ == \"__main__\":\n",
        "    initial_balance = float(input(\"Enter initial balance (minimum 3000): \"))\n",
        "    while initial_balance < 3000:\n",
        "        print(\"Initial balance must be at least 3000.\")\n",
        "        initial_balance = float(input(\"Enter initial balance (minimum 3000): \"))\n",
        "    atm_pin = int(input(\"Set your ATM PIN: \"))\n",
        "    my_bank_account = Bank(initial_balance, atm_pin)\n",
        "    while True:\n",
        "        print(\"\\n1. Withdrawal\")\n",
        "        print(\"2. Deposit\")\n",
        "        print(\"3. Exit\")\n",
        "        choice = int(input(\"\\nChoose an option: \"))\n",
        "        if choice == 1:\n",
        "            pin = int(input(\"Enter your PIN: \"))\n",
        "            amount = float(input(\"Enter amount to withdraw: \"))\n",
        "            my_bank_account.withdraw(amount, pin)\n",
        "        elif choice == 2:\n",
        "            pin = int(input(\"Enter your PIN: \"))\n",
        "            amount = float(input(\"Enter amount to deposit: \"))\n",
        "            my_bank_account.deposit(amount, pin)\n",
        "        elif choice == 3:\n",
        "            print(\"Thank you for using our service!\")\n",
        "            break\n",
        "        else:\n",
        "            print(\"Invalid option. Please try again.\")"
      ]
    }
  ],
  "metadata": {
    "colab": {
      "provenance": []
    },
    "kernelspec": {
      "display_name": "Python 3",
      "name": "python3"
    }
  },
  "nbformat": 4,
  "nbformat_minor": 0
}
